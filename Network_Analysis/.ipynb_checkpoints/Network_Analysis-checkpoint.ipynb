{
 "cells": [
  {
   "cell_type": "markdown",
   "id": "b8601903-93c4-4e4b-ad76-a3e47f0339e5",
   "metadata": {},
   "source": [
    "# Network Analysis\n",
    "For this project, I analyzed the email network of a mid-sized company and a network of blog web sites using the `networkx` Python library. "
   ]
  },
  {
   "cell_type": "code",
   "execution_count": 38,
   "id": "b6cb648f-5351-43d6-8c55-33e05c657917",
   "metadata": {},
   "outputs": [],
   "source": [
    "import networkx as nx\n",
    "import pandas as pd\n",
    "import operator"
   ]
  },
  {
   "cell_type": "markdown",
   "id": "88aba688-ba60-4dc1-8175-5ff172c0d171",
   "metadata": {},
   "source": [
    "## 1. Email Network Analysis\n",
    "For this part of the project, I analyzed an internal email communication network between employees of a mid-sized manufacturing company. \n",
    "\n",
    "Each node in the network represents an employee, and each directed edge between two nodes represents an individual email. The left node represents the sender and the right node represents the recipient. Each email was also assigned a timestamp. "
   ]
  },
  {
   "cell_type": "markdown",
   "id": "30f07564-5ed6-4ce9-acbb-ab63ffda455b",
   "metadata": {},
   "source": [
    "### Load Data\n",
    "We modeled the network as a directed multigraph, and made sure the node names were strings."
   ]
  },
  {
   "cell_type": "code",
   "execution_count": 10,
   "id": "e014a6da-f1e1-409c-ad10-66e7a5f145fd",
   "metadata": {},
   "outputs": [
    {
     "name": "stdout",
     "output_type": "stream",
     "text": [
      "Total number of employees is:  167\n",
      "Total number of emails sent was:  82927\n"
     ]
    }
   ],
   "source": [
    "# Load email data\n",
    "data = pd.read_csv('./assets/email_network.txt', sep='\\t')\n",
    "\n",
    "# Clean-up column headers\n",
    "data = data.rename(columns={'#Sender': 'Sender', 'time':'Time'})\n",
    "data['Sender'] = data['Sender'].astype(str)\n",
    "data['Recipient'] = data['Recipient'].astype(str)\n",
    "\n",
    "# Retrieve names of all senders\n",
    "senders = data['Sender'].unique()\n",
    "# Retrieve names of all recipients\n",
    "receipients = data['Recipient'].unique()\n",
    "# Combine into a single set \n",
    "both = set(senders) & set(receipients)\n",
    "\n",
    "# Create empty network \n",
    "email_net = nx.MultiDiGraph()\n",
    "# Add sender/recipient nodes to network \n",
    "email_net.add_nodes_from(both)\n",
    "\n",
    "# Add edges to the network with time attribute\n",
    "for idx in data.index:\n",
    "    email_net.add_edge(data.loc[idx, 'Sender'], \n",
    "                       data.loc[idx, 'Recipient'],\n",
    "                       time = data.loc[idx, 'Time'])\n",
    "    \n",
    "print('Total number of employees is: ', len(email_net.nodes()))\n",
    "print('Total number of emails sent was: ', len(email_net.edges()))"
   ]
  },
  {
   "cell_type": "markdown",
   "id": "665187ec-320c-4113-af0c-ab0f5dfa2001",
   "metadata": {},
   "source": [
    "### Network Connectivity\n",
    "If we assume that when an employee sends an email to another employee, a communication channel has been created, allowing the sender to provide information to the reciever, but not vice versa, is it possible for information to go from every employee to every other employee? In other words is it a strongly connected network? "
   ]
  },
  {
   "cell_type": "code",
   "execution_count": 12,
   "id": "4e369a5c-c7d3-428d-a0d1-202a42f48ab1",
   "metadata": {},
   "outputs": [
    {
     "name": "stdout",
     "output_type": "stream",
     "text": [
      "The email network is not strongly connected.\n"
     ]
    }
   ],
   "source": [
    "# Part 1: Is the email network strongly connected? \n",
    "strong = nx.is_strongly_connected(email_net)\n",
    "\n",
    "if strong:\n",
    "    print('The email network is strongly connected.')\n",
    "else:\n",
    "    print('The email network is not strongly connected.')"
   ]
  },
  {
   "cell_type": "markdown",
   "id": "eb7de6be-ea4f-49e4-a43b-a981bad13030",
   "metadata": {},
   "source": [
    "Therefore, the employees are all connected through email, if the direction of the email is considered."
   ]
  },
  {
   "cell_type": "markdown",
   "id": "1c0e6b19-174d-4661-af6f-36a38b603f28",
   "metadata": {},
   "source": [
    "Now if we assume that a communication channel established by an email allows information to be exchanged both ways, is it possible for information to go from every employee to every other employee? Or is the network weakly connected? "
   ]
  },
  {
   "cell_type": "code",
   "execution_count": 13,
   "id": "ed747c5f-744f-4ad0-90fa-786a68bfdaef",
   "metadata": {},
   "outputs": [
    {
     "name": "stdout",
     "output_type": "stream",
     "text": [
      "The email network is weakly connected.\n"
     ]
    }
   ],
   "source": [
    "# Part 2: Is it weakly connected? \n",
    "weak = nx.is_weakly_connected(email_net)\n",
    "\n",
    "if weak:\n",
    "    print('The email network is weakly connected.')\n",
    "else:\n",
    "    print('The email network is not weakly connected.')"
   ]
  },
  {
   "cell_type": "markdown",
   "id": "d74afad3-4083-4b39-ad64-789618280ff7",
   "metadata": {},
   "source": [
    "Therefore, all of the employees are connected through email, if the direction of the email isn't considered."
   ]
  },
  {
   "cell_type": "markdown",
   "id": "247808f7-29a5-4d9a-ae47-f118069f1dad",
   "metadata": {},
   "source": [
    "### Largest Connected Components\n",
    "In a directed graph, like our email network, a weakly connected component (WCC) is a subgraph of the graph in which all of the\n",
    "nodes of the subgraph are connected, regardless of the direction of the edge connecting them. The largest weakly connected component is the WCC with the most nodes. For our network, it represents the largest number of employees connected through emails, regardless of who sent/received the email.  "
   ]
  },
  {
   "cell_type": "code",
   "execution_count": 16,
   "id": "4cbc558e-5df1-46aa-b874-da8e6b44b0f8",
   "metadata": {},
   "outputs": [
    {
     "name": "stdout",
     "output_type": "stream",
     "text": [
      "The most employees weakly connected through email is:  167\n"
     ]
    }
   ],
   "source": [
    "# Find largest weakly connected components\n",
    "largest_weakly_connected = max(nx.weakly_connected_components(email_net), key=len)\n",
    "\n",
    "print('The most employees weakly connected through email is: ', len(largest_weakly_connected)) "
   ]
  },
  {
   "cell_type": "markdown",
   "id": "f198c621-ad80-442b-8607-ca0d36f199f5",
   "metadata": {},
   "source": [
    "A strongly connected component (SCC) of the email network is a sub-network of the network in which all of the employees are connected through, taking the edge directions into account. The largest strongly connected component is the SCC with the most employees. "
   ]
  },
  {
   "cell_type": "code",
   "execution_count": 17,
   "id": "506fdf68-8e07-4cb2-b53b-fdcce3bab503",
   "metadata": {},
   "outputs": [
    {
     "name": "stdout",
     "output_type": "stream",
     "text": [
      "The most employees strongly connected through email is:  126\n"
     ]
    }
   ],
   "source": [
    "# Find largest strongly connected components\n",
    "largest_strongly_connected = max(nx.strongly_connected_components(email_net), key=len)\n",
    "\n",
    "print('The most employees strongly connected through email is: ', len(largest_strongly_connected)) "
   ]
  },
  {
   "cell_type": "markdown",
   "id": "6fa1455b-a66a-4aea-b894-724825689057",
   "metadata": {},
   "source": [
    "### Analysis of Largest Strongly Connected Component\n",
    "Because the largest strongly connected component is the most reliable method of sharing information via email, we analyzed a number of defining characteristics of this component. \n",
    "\n",
    "For instance, how far apart are the employees in this component, on average? "
   ]
  },
  {
   "cell_type": "code",
   "execution_count": 19,
   "id": "97c64dd2-c9dc-4efc-bda3-f9bdf7d2d6e5",
   "metadata": {},
   "outputs": [
    {
     "name": "stdout",
     "output_type": "stream",
     "text": [
      "The average distance between employees is:  1.65\n"
     ]
    }
   ],
   "source": [
    "# Create subgraph from largest strongly connected component\n",
    "email_sub_net = email_net.subgraph(largest_strongly_connected)\n",
    "\n",
    "# Calculate average distance\n",
    "avg_distance = nx.average_shortest_path_length(email_sub_net)\n",
    "\n",
    "print('The average distance between employees is: ', round(avg_distance, 2))"
   ]
  },
  {
   "cell_type": "markdown",
   "id": "f6667d1b-edb8-48fb-916a-a1ad9f3c2870",
   "metadata": {},
   "source": [
    "So on average, it takes more than 1.5 emails to reach everyone in this sub-network.  "
   ]
  },
  {
   "cell_type": "markdown",
   "id": "3e9c5781-bec4-486b-8174-642cbd7ec888",
   "metadata": {},
   "source": [
    "What is the largest possible distance between two employees? "
   ]
  },
  {
   "cell_type": "code",
   "execution_count": 20,
   "id": "d89869e3-88a2-49b1-bc02-437d6c51034d",
   "metadata": {},
   "outputs": [
    {
     "name": "stdout",
     "output_type": "stream",
     "text": [
      "The maximum shortest path between employees is:  3\n"
     ]
    }
   ],
   "source": [
    "# Find max shortest path length between nodes \n",
    "max_dist = nx.diameter(email_sub_net)\n",
    "\n",
    "print('The maximum shortest path between employees is: ', max_dist)"
   ]
  },
  {
   "cell_type": "markdown",
   "id": "00665ca3-ffca-42bc-bd7e-353848a7a3a0",
   "metadata": {},
   "source": [
    "So at most, it takes 3 emails to reach everyone in the sub-network."
   ]
  },
  {
   "cell_type": "markdown",
   "id": "58586b26-7be6-400e-9e26-550bf7ca847c",
   "metadata": {},
   "source": [
    "Which employees in the email sub-network have an eccentricity, a maximum shortest path, equal to the sub-network diameter?"
   ]
  },
  {
   "cell_type": "code",
   "execution_count": 21,
   "id": "f98962ee-540e-4c84-93f4-6f7b4d2d1f6c",
   "metadata": {},
   "outputs": [
    {
     "data": {
      "text/plain": [
       "{'129', '134', '97'}"
      ]
     },
     "execution_count": 21,
     "metadata": {},
     "output_type": "execute_result"
    }
   ],
   "source": [
    "# Find nodes with eccentricity equal to diameter\n",
    "set(nx.periphery(email_sub_net))"
   ]
  },
  {
   "cell_type": "markdown",
   "id": "98eb0fa5-288a-4d42-82de-b272f5ce8a93",
   "metadata": {},
   "source": [
    "These are the employees that take the most emails to reach the other employees in the sub-network. "
   ]
  },
  {
   "cell_type": "markdown",
   "id": "5dfba9ab-e765-41b1-b358-18a44636307c",
   "metadata": {},
   "source": [
    "Which employees in the email sub-network have an eccentricity equal to the sub-network radius, the smallest eccentricity?"
   ]
  },
  {
   "cell_type": "code",
   "execution_count": 22,
   "id": "a82a5937-be1f-4dab-97cf-b1c8875e1fbf",
   "metadata": {},
   "outputs": [
    {
     "data": {
      "text/plain": [
       "{'38'}"
      ]
     },
     "execution_count": 22,
     "metadata": {},
     "output_type": "execute_result"
    }
   ],
   "source": [
    "# Employees with eccentricity equal to radius\n",
    "set(nx.center(email_sub_net))"
   ]
  },
  {
   "cell_type": "markdown",
   "id": "cd641ac8-28be-4b72-a4e6-fdc88fe8bf71",
   "metadata": {},
   "source": [
    "This is the employee that takes the fewest emails to reach all of the other employees in the sub-network. "
   ]
  },
  {
   "cell_type": "markdown",
   "id": "58e46111-a6be-4938-9006-29f86cf40efa",
   "metadata": {},
   "source": [
    "## 2. Network of Political Blogs\n",
    "For this part of the project, I analyzed connections to political blogs. I modeled the connections as a directed network, in which the nodes correspond to a blog and edges correspond to links between blogs."
   ]
  },
  {
   "cell_type": "code",
   "execution_count": 25,
   "id": "32df87f7-84cb-4832-90a9-37e74ec9b76f",
   "metadata": {},
   "outputs": [],
   "source": [
    "# Load data stored in Geographical Markup Language (GML)\n",
    "blog_sub_net = nx.read_gml('assets/blogs.gml')"
   ]
  },
  {
   "cell_type": "markdown",
   "id": "f34cb18e-a302-4ea8-851f-3df5e7f36203",
   "metadata": {},
   "source": [
    "### Scaled PageRank\n",
    "Using the PageRank algorithm developed at Google, scaled to include a damping factor of 0.85, I determined the most influential blogs in the network. "
   ]
  },
  {
   "cell_type": "code",
   "execution_count": 32,
   "id": "638c4d4e-0a87-479f-be91-cce162410d9d",
   "metadata": {},
   "outputs": [
    {
     "data": {
      "text/plain": [
       "['dailykos.com',\n",
       " 'atrios.blogspot.com',\n",
       " 'instapundit.com',\n",
       " 'blogsforbush.com',\n",
       " 'talkingpointsmemo.com']"
      ]
     },
     "execution_count": 32,
     "metadata": {},
     "output_type": "execute_result"
    }
   ],
   "source": [
    "# Alpha value \n",
    "a = 0.85 \n",
    "# Calculate page rank with given alpha \n",
    "scaled_page_rank = nx.pagerank(blog_sub_net, alpha=a) \n",
    "\n",
    "# Sort by rank, retrieve top 5 \n",
    "top_5_tuples = sorted(scaled_page_rank.items(), \n",
    "               key=operator.itemgetter(1),\n",
    "               reverse=True)[0:5]\n",
    "\n",
    "# Extract just web sites from list \n",
    "pagerank_top_5_values = [t[0] for t in top_5_tuples]\n",
    "\n",
    "pagerank_top_5_values"
   ]
  },
  {
   "cell_type": "markdown",
   "id": "17804ae4-8137-4972-8e44-0b57ccdbad21",
   "metadata": {},
   "source": [
    "So these are the blogs readers are most likely to visit in the blog network, using the Scaled PageRank algorithm."
   ]
  },
  {
   "cell_type": "markdown",
   "id": "617f03be-b020-4217-a77e-6508cae1e1fd",
   "metadata": {},
   "source": [
    "### HITS Algorithm\n",
    "Hyperlink-Induced Topic Search (HITS) algorithm is a link analysis algorithm that was developed by Jon Kleinberg. The algorithm assigns two scores for each page: its authority, which estimates the value of the content of the page, and its hub value, which estimates the value of its links to other pages. "
   ]
  },
  {
   "cell_type": "markdown",
   "id": "3f4be3a7-7fc5-4b04-a2ca-faf03bd61082",
   "metadata": {},
   "source": [
    "Next, we applied the HITS Algorithm to the blog network to find the 5 blogs that have the most links to other blogs in the network."
   ]
  },
  {
   "cell_type": "code",
   "execution_count": 33,
   "id": "72f4e64b-5c89-4dca-84aa-11d6e38b50c2",
   "metadata": {},
   "outputs": [
    {
     "data": {
      "text/plain": [
       "['politicalstrategy.org',\n",
       " 'madkane.com/notable.html',\n",
       " 'liberaloasis.com',\n",
       " 'stagefour.typepad.com/commonprejudice',\n",
       " 'bodyandsoul.typepad.com']"
      ]
     },
     "execution_count": 33,
     "metadata": {},
     "output_type": "execute_result"
    }
   ],
   "source": [
    "# Calculate hub / authority scores \n",
    "hub_score, authority_score = nx.hits(blog_sub_net)\n",
    "\n",
    "# Sort by hub scores, retrieve top 5 \n",
    "top_5_tuples = sorted(hub_score.items(), \n",
    "               key=operator.itemgetter(1),\n",
    "               reverse=True)[0:5]\n",
    "\n",
    "# Extract just web sites from list \n",
    "hub_top_5_values = [t[0] for t in top_5_tuples]\n",
    "\n",
    "hub_top_5_values"
   ]
  },
  {
   "cell_type": "markdown",
   "id": "02db2005-6dc8-4d0f-9c67-e581de8e68e0",
   "metadata": {},
   "source": [
    "And we also found the 5 blogs that have the most links leading to them."
   ]
  },
  {
   "cell_type": "code",
   "execution_count": 34,
   "id": "35b73b5a-fe82-472a-81d6-328131896a29",
   "metadata": {},
   "outputs": [
    {
     "data": {
      "text/plain": [
       "['dailykos.com',\n",
       " 'talkingpointsmemo.com',\n",
       " 'atrios.blogspot.com',\n",
       " 'washingtonmonthly.com',\n",
       " 'talkleft.com']"
      ]
     },
     "execution_count": 34,
     "metadata": {},
     "output_type": "execute_result"
    }
   ],
   "source": [
    "# Sort by authority scores, retrieve top 5 \n",
    "top_5_tuples = sorted(authority_score.items(), \n",
    "               key=operator.itemgetter(1),\n",
    "               reverse=True)[0:5]\n",
    "\n",
    "# Extract just web sites from list \n",
    "authority_top_5_values = [t[0] for t in top_5_tuples]\n",
    "\n",
    "authority_top_5_values"
   ]
  },
  {
   "cell_type": "markdown",
   "id": "7d2c739c-7217-4b8c-9319-3ec35869c1b2",
   "metadata": {},
   "source": [
    "### Conclusion\n",
    "I then compared the contents of each of the lists.   "
   ]
  },
  {
   "cell_type": "code",
   "execution_count": 35,
   "id": "789f5a6d-02fa-4fbc-82cf-598ec5f50bf1",
   "metadata": {},
   "outputs": [
    {
     "data": {
      "text/plain": [
       "set()"
      ]
     },
     "execution_count": 35,
     "metadata": {},
     "output_type": "execute_result"
    }
   ],
   "source": [
    "# Comparing list of highest page ranks and hub list\n",
    "set(pagerank_top_5_values) & set(hub_top_5_values)"
   ]
  },
  {
   "cell_type": "markdown",
   "id": "00549369-4485-4759-9c73-4ad70722dd16",
   "metadata": {},
   "source": [
    "So there are no pages in both the top page rank list and the hub list."
   ]
  },
  {
   "cell_type": "code",
   "execution_count": 36,
   "id": "7dab903c-323e-4074-9c49-74bbd5760adf",
   "metadata": {},
   "outputs": [
    {
     "data": {
      "text/plain": [
       "set()"
      ]
     },
     "execution_count": 36,
     "metadata": {},
     "output_type": "execute_result"
    }
   ],
   "source": [
    "# Comparing authorith list and hub list\n",
    "set(authority_top_5_values) & set(hub_top_5_values)"
   ]
  },
  {
   "cell_type": "markdown",
   "id": "1eb4a659-c736-4c2e-83f9-11f19a7a17e2",
   "metadata": {},
   "source": [
    "Again, the authority and hub list have no blogs in common."
   ]
  },
  {
   "cell_type": "code",
   "execution_count": 37,
   "id": "92e82def-331a-4bfb-8483-23da83a5fa6d",
   "metadata": {},
   "outputs": [
    {
     "data": {
      "text/plain": [
       "{'atrios.blogspot.com', 'dailykos.com', 'talkingpointsmemo.com'}"
      ]
     },
     "execution_count": 37,
     "metadata": {},
     "output_type": "execute_result"
    }
   ],
   "source": [
    "# Comparing list of highest page ranks and authority list\n",
    "set(pagerank_top_5_values) & set(authority_top_5_values)"
   ]
  },
  {
   "cell_type": "markdown",
   "id": "2c5bc4ef-1469-4ff1-af10-3909eed6b5d2",
   "metadata": {},
   "source": [
    "However, the Scaled PageRank list and the HITS authority list of blogs share 3 blogs, indicating these blogs are especially influential. "
   ]
  },
  {
   "cell_type": "code",
   "execution_count": null,
   "id": "c574a303-c0be-453a-9432-f4ae67661608",
   "metadata": {},
   "outputs": [],
   "source": []
  }
 ],
 "metadata": {
  "kernelspec": {
   "display_name": "Python 3 (ipykernel)",
   "language": "python",
   "name": "python3"
  },
  "language_info": {
   "codemirror_mode": {
    "name": "ipython",
    "version": 3
   },
   "file_extension": ".py",
   "mimetype": "text/x-python",
   "name": "python",
   "nbconvert_exporter": "python",
   "pygments_lexer": "ipython3",
   "version": "3.11.9"
  }
 },
 "nbformat": 4,
 "nbformat_minor": 5
}

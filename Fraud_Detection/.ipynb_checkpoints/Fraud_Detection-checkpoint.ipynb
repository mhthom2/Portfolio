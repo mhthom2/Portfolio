{
 "cells": [
  {
   "cell_type": "markdown",
   "id": "639d3695-7c79-401b-8506-6d6b168edc01",
   "metadata": {},
   "source": [
    "# Fraud Detection Classifier\n",
    "Fraud detection is the process of detecting and preventing fraudsters from obtaining money or property through false means. It is a set of activities undertaken to detect and block the attempt of fraudsters from obtaining money or property fraudulently. Fraud detection is prevalent across banking, insurance, medical, government, and public sectors, as well as in law enforcement agencies. \n",
    "\n",
    "For this project, I was given a data set consisting of 21,693 banking transactions, and I was tasked with creating a classifier that could detect which new transactions are fraudulent. Each transaction included 22 unlabeled attributes, an amount, and a class. From the data, I was able to create SVM and Logistic Regression classifiers, but the results were mixed. "
   ]
  },
  {
   "cell_type": "code",
   "execution_count": 33,
   "id": "28001f53-3d78-4260-b80b-d5d537f36c62",
   "metadata": {},
   "outputs": [],
   "source": [
    "import numpy as np\n",
    "import pandas as pd\n",
    "import seaborn as sn\n",
    "import matplotlib.pyplot as plt\n",
    "import matplotlib\n",
    "\n",
    "from sklearn.model_selection import train_test_split\n",
    "from sklearn.dummy import DummyClassifier\n",
    "from sklearn.svm import SVC\n",
    "from sklearn.linear_model import LogisticRegression\n",
    "\n",
    "from sklearn.preprocessing import MinMaxScaler\n",
    "from sklearn.model_selection import GridSearchCV\n",
    "\n",
    "from sklearn.metrics import recall_score, precision_score, accuracy_score\n",
    "from sklearn.metrics import confusion_matrix"
   ]
  },
  {
   "cell_type": "markdown",
   "id": "214c5517-3cad-4638-a67e-5cbeca20a16e",
   "metadata": {},
   "source": [
    "## 1. Load and Prepare Data"
   ]
  },
  {
   "cell_type": "code",
   "execution_count": 2,
   "id": "b4130c88-a343-4473-bc5a-7e7ed35f60f0",
   "metadata": {},
   "outputs": [
    {
     "data": {
      "text/html": [
       "<div>\n",
       "<style scoped>\n",
       "    .dataframe tbody tr th:only-of-type {\n",
       "        vertical-align: middle;\n",
       "    }\n",
       "\n",
       "    .dataframe tbody tr th {\n",
       "        vertical-align: top;\n",
       "    }\n",
       "\n",
       "    .dataframe thead th {\n",
       "        text-align: right;\n",
       "    }\n",
       "</style>\n",
       "<table border=\"1\" class=\"dataframe\">\n",
       "  <thead>\n",
       "    <tr style=\"text-align: right;\">\n",
       "      <th></th>\n",
       "      <th>V1</th>\n",
       "      <th>V2</th>\n",
       "      <th>V3</th>\n",
       "      <th>V4</th>\n",
       "      <th>V5</th>\n",
       "      <th>V6</th>\n",
       "      <th>V7</th>\n",
       "      <th>V8</th>\n",
       "      <th>V9</th>\n",
       "      <th>V10</th>\n",
       "      <th>...</th>\n",
       "      <th>V21</th>\n",
       "      <th>V22</th>\n",
       "      <th>V23</th>\n",
       "      <th>V24</th>\n",
       "      <th>V25</th>\n",
       "      <th>V26</th>\n",
       "      <th>V27</th>\n",
       "      <th>V28</th>\n",
       "      <th>Amount</th>\n",
       "      <th>Class</th>\n",
       "    </tr>\n",
       "  </thead>\n",
       "  <tbody>\n",
       "    <tr>\n",
       "      <th>0</th>\n",
       "      <td>1.176563</td>\n",
       "      <td>0.323798</td>\n",
       "      <td>0.536927</td>\n",
       "      <td>1.047002</td>\n",
       "      <td>-0.368652</td>\n",
       "      <td>-0.728586</td>\n",
       "      <td>0.084678</td>\n",
       "      <td>-0.069246</td>\n",
       "      <td>-0.266389</td>\n",
       "      <td>0.155315</td>\n",
       "      <td>...</td>\n",
       "      <td>-0.109627</td>\n",
       "      <td>-0.341365</td>\n",
       "      <td>0.057845</td>\n",
       "      <td>0.499180</td>\n",
       "      <td>0.415211</td>\n",
       "      <td>-0.581949</td>\n",
       "      <td>0.015472</td>\n",
       "      <td>0.018065</td>\n",
       "      <td>4.67</td>\n",
       "      <td>0</td>\n",
       "    </tr>\n",
       "    <tr>\n",
       "      <th>1</th>\n",
       "      <td>0.681109</td>\n",
       "      <td>-3.934776</td>\n",
       "      <td>-3.801827</td>\n",
       "      <td>-1.147468</td>\n",
       "      <td>-0.735540</td>\n",
       "      <td>-0.501097</td>\n",
       "      <td>1.038865</td>\n",
       "      <td>-0.626979</td>\n",
       "      <td>-2.274423</td>\n",
       "      <td>1.527782</td>\n",
       "      <td>...</td>\n",
       "      <td>0.652202</td>\n",
       "      <td>0.272684</td>\n",
       "      <td>-0.982151</td>\n",
       "      <td>0.165900</td>\n",
       "      <td>0.360251</td>\n",
       "      <td>0.195321</td>\n",
       "      <td>-0.256273</td>\n",
       "      <td>0.056501</td>\n",
       "      <td>912.00</td>\n",
       "      <td>0</td>\n",
       "    </tr>\n",
       "    <tr>\n",
       "      <th>2</th>\n",
       "      <td>1.140729</td>\n",
       "      <td>0.453484</td>\n",
       "      <td>0.247010</td>\n",
       "      <td>2.383132</td>\n",
       "      <td>0.343287</td>\n",
       "      <td>0.432804</td>\n",
       "      <td>0.093380</td>\n",
       "      <td>0.173310</td>\n",
       "      <td>-0.808999</td>\n",
       "      <td>0.775436</td>\n",
       "      <td>...</td>\n",
       "      <td>-0.003802</td>\n",
       "      <td>0.058556</td>\n",
       "      <td>-0.121177</td>\n",
       "      <td>-0.304215</td>\n",
       "      <td>0.645893</td>\n",
       "      <td>0.122600</td>\n",
       "      <td>-0.012115</td>\n",
       "      <td>-0.005945</td>\n",
       "      <td>1.00</td>\n",
       "      <td>0</td>\n",
       "    </tr>\n",
       "    <tr>\n",
       "      <th>3</th>\n",
       "      <td>-1.107073</td>\n",
       "      <td>-3.298902</td>\n",
       "      <td>-0.184092</td>\n",
       "      <td>-1.795744</td>\n",
       "      <td>2.137564</td>\n",
       "      <td>-1.684992</td>\n",
       "      <td>-2.015606</td>\n",
       "      <td>-0.007181</td>\n",
       "      <td>-0.165760</td>\n",
       "      <td>0.869659</td>\n",
       "      <td>...</td>\n",
       "      <td>0.130648</td>\n",
       "      <td>0.329445</td>\n",
       "      <td>0.927656</td>\n",
       "      <td>-0.049560</td>\n",
       "      <td>-1.892866</td>\n",
       "      <td>-0.575431</td>\n",
       "      <td>0.266573</td>\n",
       "      <td>0.414184</td>\n",
       "      <td>62.10</td>\n",
       "      <td>0</td>\n",
       "    </tr>\n",
       "    <tr>\n",
       "      <th>4</th>\n",
       "      <td>-0.314818</td>\n",
       "      <td>0.866839</td>\n",
       "      <td>-0.124577</td>\n",
       "      <td>-0.627638</td>\n",
       "      <td>2.651762</td>\n",
       "      <td>3.428128</td>\n",
       "      <td>0.194637</td>\n",
       "      <td>0.670674</td>\n",
       "      <td>-0.442658</td>\n",
       "      <td>0.133499</td>\n",
       "      <td>...</td>\n",
       "      <td>-0.312774</td>\n",
       "      <td>-0.799494</td>\n",
       "      <td>-0.064488</td>\n",
       "      <td>0.953062</td>\n",
       "      <td>-0.429550</td>\n",
       "      <td>0.158225</td>\n",
       "      <td>0.076943</td>\n",
       "      <td>-0.015051</td>\n",
       "      <td>2.67</td>\n",
       "      <td>0</td>\n",
       "    </tr>\n",
       "  </tbody>\n",
       "</table>\n",
       "<p>5 rows × 30 columns</p>\n",
       "</div>"
      ],
      "text/plain": [
       "         V1        V2        V3        V4        V5        V6        V7  \\\n",
       "0  1.176563  0.323798  0.536927  1.047002 -0.368652 -0.728586  0.084678   \n",
       "1  0.681109 -3.934776 -3.801827 -1.147468 -0.735540 -0.501097  1.038865   \n",
       "2  1.140729  0.453484  0.247010  2.383132  0.343287  0.432804  0.093380   \n",
       "3 -1.107073 -3.298902 -0.184092 -1.795744  2.137564 -1.684992 -2.015606   \n",
       "4 -0.314818  0.866839 -0.124577 -0.627638  2.651762  3.428128  0.194637   \n",
       "\n",
       "         V8        V9       V10  ...       V21       V22       V23       V24  \\\n",
       "0 -0.069246 -0.266389  0.155315  ... -0.109627 -0.341365  0.057845  0.499180   \n",
       "1 -0.626979 -2.274423  1.527782  ...  0.652202  0.272684 -0.982151  0.165900   \n",
       "2  0.173310 -0.808999  0.775436  ... -0.003802  0.058556 -0.121177 -0.304215   \n",
       "3 -0.007181 -0.165760  0.869659  ...  0.130648  0.329445  0.927656 -0.049560   \n",
       "4  0.670674 -0.442658  0.133499  ... -0.312774 -0.799494 -0.064488  0.953062   \n",
       "\n",
       "        V25       V26       V27       V28  Amount  Class  \n",
       "0  0.415211 -0.581949  0.015472  0.018065    4.67      0  \n",
       "1  0.360251  0.195321 -0.256273  0.056501  912.00      0  \n",
       "2  0.645893  0.122600 -0.012115 -0.005945    1.00      0  \n",
       "3 -1.892866 -0.575431  0.266573  0.414184   62.10      0  \n",
       "4 -0.429550  0.158225  0.076943 -0.015051    2.67      0  \n",
       "\n",
       "[5 rows x 30 columns]"
      ]
     },
     "execution_count": 2,
     "metadata": {},
     "output_type": "execute_result"
    }
   ],
   "source": [
    "# Read in data\n",
    "data = pd.read_csv('./assets/fraud_data.csv')\n",
    "data.head()   "
   ]
  },
  {
   "cell_type": "code",
   "execution_count": 3,
   "id": "2e05deb5-ff02-409e-9f94-5775de7d80ba",
   "metadata": {},
   "outputs": [
    {
     "name": "stdout",
     "output_type": "stream",
     "text": [
      "<class 'pandas.core.frame.DataFrame'>\n",
      "RangeIndex: 21693 entries, 0 to 21692\n",
      "Data columns (total 30 columns):\n",
      " #   Column  Non-Null Count  Dtype  \n",
      "---  ------  --------------  -----  \n",
      " 0   V1      21693 non-null  float64\n",
      " 1   V2      21693 non-null  float64\n",
      " 2   V3      21693 non-null  float64\n",
      " 3   V4      21693 non-null  float64\n",
      " 4   V5      21693 non-null  float64\n",
      " 5   V6      21693 non-null  float64\n",
      " 6   V7      21693 non-null  float64\n",
      " 7   V8      21693 non-null  float64\n",
      " 8   V9      21693 non-null  float64\n",
      " 9   V10     21693 non-null  float64\n",
      " 10  V11     21693 non-null  float64\n",
      " 11  V12     21693 non-null  float64\n",
      " 12  V13     21693 non-null  float64\n",
      " 13  V14     21693 non-null  float64\n",
      " 14  V15     21693 non-null  float64\n",
      " 15  V16     21693 non-null  float64\n",
      " 16  V17     21693 non-null  float64\n",
      " 17  V18     21693 non-null  float64\n",
      " 18  V19     21693 non-null  float64\n",
      " 19  V20     21693 non-null  float64\n",
      " 20  V21     21693 non-null  float64\n",
      " 21  V22     21693 non-null  float64\n",
      " 22  V23     21693 non-null  float64\n",
      " 23  V24     21693 non-null  float64\n",
      " 24  V25     21693 non-null  float64\n",
      " 25  V26     21693 non-null  float64\n",
      " 26  V27     21693 non-null  float64\n",
      " 27  V28     21693 non-null  float64\n",
      " 28  Amount  21693 non-null  float64\n",
      " 29  Class   21693 non-null  int64  \n",
      "dtypes: float64(29), int64(1)\n",
      "memory usage: 5.0 MB\n"
     ]
    }
   ],
   "source": [
    "# Summarize data \n",
    "data.info()"
   ]
  },
  {
   "cell_type": "markdown",
   "id": "c6cd93c2-4d90-4e2b-a195-2e5d733fa0c2",
   "metadata": {},
   "source": [
    "Although attributes aren't labeled, the data set is clean: no missing values, data types are appropriate, and\n",
    "fraud class is clearly defined."
   ]
  },
  {
   "cell_type": "code",
   "execution_count": 4,
   "id": "1105f280-c9fc-4c8a-9164-5eed1cd08bc3",
   "metadata": {},
   "outputs": [
    {
     "data": {
      "text/plain": [
       "Class\n",
       "0    0.983589\n",
       "1    0.016411\n",
       "Name: count, dtype: float64"
      ]
     },
     "execution_count": 4,
     "metadata": {},
     "output_type": "execute_result"
    }
   ],
   "source": [
    "# Calculate number of rows \n",
    "total = len(data['Class'])\n",
    "\n",
    "# Calculate proportions for both classes \n",
    "proportions = data['Class'].value_counts() / total\n",
    "\n",
    "proportions"
   ]
  },
  {
   "cell_type": "markdown",
   "id": "fbd69208-63f5-4ef2-96fd-9d919e46e1e9",
   "metadata": {},
   "source": [
    "It's noteworthy that the sample is heavily skewed toward non-fraudulent instances. We'll keep this in mind\n",
    "during the analysis process. "
   ]
  },
  {
   "cell_type": "code",
   "execution_count": 5,
   "id": "46994878-aa12-45ac-ad3f-95c28a2f229d",
   "metadata": {},
   "outputs": [],
   "source": [
    "# To build classifier, we first divide into X (attributes) and targets (y)\n",
    "X = data.iloc[:,:-1]\n",
    "y = data.iloc[:,-1]\n",
    "\n",
    "# Next, divide into training / test data sets \n",
    "X_train, X_test, y_train, y_test = train_test_split(X, y, random_state=1)"
   ]
  },
  {
   "cell_type": "markdown",
   "id": "82571bae-eb3e-477a-99e7-02f95e3d1ad2",
   "metadata": {},
   "source": [
    "## 2. Create Baseline\n",
    "For comparison, we created a majority-vote classifier. Since the majority of the instances are non-fraudulent, and \n",
    "about 98% of the data is assigned to this class, we'd expect a high accuracy score. "
   ]
  },
  {
   "cell_type": "code",
   "execution_count": 6,
   "id": "e6c21ed9-c9b7-493f-95bd-4dc3391ca12d",
   "metadata": {},
   "outputs": [
    {
     "name": "stdout",
     "output_type": "stream",
     "text": [
      "Accuracy:  0.9830383480825958\n",
      "Precision:  nan\n",
      "Recall:  0.0\n"
     ]
    }
   ],
   "source": [
    "# Create dummy classifier, use most frequent class 0\n",
    "dummy_majority = DummyClassifier(strategy = 'most_frequent').fit(X_train, y_train)\n",
    "# Make predictions with test data\n",
    "y_dummy_predictions = dummy_majority.predict(X_test)\n",
    "\n",
    "# Calculate accuracy\n",
    "dummy_accuracy = accuracy_score(y_test, y_dummy_predictions)\n",
    "# Calculate precision\n",
    "dummy_precision = precision_score(y_test, y_dummy_predictions, zero_division=np.nan)\n",
    "# Calculate recall \n",
    "dummy_recall = recall_score(y_test, y_dummy_predictions, zero_division=np.nan)\n",
    "\n",
    "print('Accuracy: ', dummy_accuracy)\n",
    "print('Precision: ', dummy_precision)\n",
    "print('Recall: ', dummy_recall)"
   ]
  },
  {
   "cell_type": "markdown",
   "id": "beb31a3e-c362-4229-a278-a751633c544a",
   "metadata": {},
   "source": [
    "As expected, the accuracy is over 98%. Also, the precision is undefined because the sum of false negatives and \n",
    "true positives is zero, and recall is 0.0 because there are no true positives. "
   ]
  },
  {
   "cell_type": "markdown",
   "id": "06786e63-b72e-4fb9-bee3-09b2c8e04cfb",
   "metadata": {},
   "source": [
    "## 3. Support Vector Machine (SVM)\n",
    "For the first actual classifier, we created a SVM using the default values for `kernel`, `C`, and `gamma`. "
   ]
  },
  {
   "cell_type": "code",
   "execution_count": 7,
   "id": "b206cdc4-e24a-411d-ab8a-5005d3c338a2",
   "metadata": {},
   "outputs": [],
   "source": [
    "# For our classifiers, we normalized the attribute data first \n",
    "scaler = MinMaxScaler()\n",
    "\n",
    "X_train_scaled = scaler.fit_transform(X_train)\n",
    "X_test_scaled = scaler.transform(X_test)"
   ]
  },
  {
   "cell_type": "code",
   "execution_count": 8,
   "id": "402c56a7-b02b-48b8-a9fd-f358e476211b",
   "metadata": {},
   "outputs": [
    {
     "name": "stdout",
     "output_type": "stream",
     "text": [
      "Accuracy:  0.9961283185840708\n",
      "Precision:  0.9733333333333334\n",
      "Recall:  0.7934782608695652\n"
     ]
    }
   ],
   "source": [
    "# Train Support Vector Machine (SVM) model\n",
    "svm = SVC().fit(X_train_scaled, y_train)\n",
    "# Make predictions with training data \n",
    "svm_predicted = svm.predict(X_test_scaled)\n",
    "\n",
    "# Calculate accuracy\n",
    "svm_accuracy = accuracy_score(y_test, svm_predicted)\n",
    "# Calculate accuracy\n",
    "svm_precision = precision_score(y_test, svm_predicted)\n",
    "# Calculate recall \n",
    "svm_recall = recall_score(y_test, svm_predicted)\n",
    "\n",
    "print('Accuracy: ', svm_accuracy)\n",
    "print('Precision: ', svm_precision)\n",
    "print('Recall: ', svm_recall)"
   ]
  },
  {
   "cell_type": "markdown",
   "id": "f8744b52-47c4-4a7b-92d4-600ce2cd454b",
   "metadata": {},
   "source": [
    "The accuracy of 99.6% is even better than our baseline, and the high precision score indicates a low number of false positives. However, the lower recall score reflects the number of false negatives relative to the number of true positives. \n",
    "I believe this lower score is due to the highly imbalanced data set. "
   ]
  },
  {
   "cell_type": "markdown",
   "id": "f3342481-6bff-440e-b8c7-585869e672ae",
   "metadata": {},
   "source": [
    "## 4. Fine-Tuned SVM Classifier\n",
    "To optimize the `kernel`, `C` and `gamma` hyperparameters, we used cross validation to find a better combination for these values."
   ]
  },
  {
   "cell_type": "code",
   "execution_count": 9,
   "id": "c9b3a6db-48a1-46e1-82d2-0f26e414cdbb",
   "metadata": {},
   "outputs": [
    {
     "data": {
      "text/plain": [
       "{'C': 100, 'gamma': 1, 'kernel': 'rbf'}"
      ]
     },
     "execution_count": 9,
     "metadata": {},
     "output_type": "execute_result"
    }
   ],
   "source": [
    "# Hyperparameters and values iterate through \n",
    "grid_values = {'kernel': ['poly', 'rbf'], \n",
    "               'C': [0.1, 10, 100],\n",
    "               'gamma':[1, 10, 100]}\n",
    "\n",
    "# Create SVM model\n",
    "svm = SVC()\n",
    "\n",
    "# Metric to optimize over grid parameters: F-1 score\n",
    "grid_svm = GridSearchCV(svm, param_grid=grid_values, scoring='f1')\n",
    "# Train on models\n",
    "grid_svm.fit(X_train_scaled, y_train)\n",
    "\n",
    "# Best scoring combination of hyperparameters\n",
    "params = grid_svm.best_params_\n",
    "\n",
    "params"
   ]
  },
  {
   "cell_type": "code",
   "execution_count": 10,
   "id": "55a13af2-5454-4030-b289-102e1863c171",
   "metadata": {},
   "outputs": [
    {
     "name": "stdout",
     "output_type": "stream",
     "text": [
      "Accuracy:  0.9963126843657817\n",
      "Precision:  0.9736842105263158\n",
      "Recall:  0.8043478260869565\n"
     ]
    }
   ],
   "source": [
    "# Create classifier with best hyperparameters\n",
    "best_svm = SVC(kernel=params['kernel'],\n",
    "               C=params['C'], \n",
    "               gamma=params['gamma'])\n",
    "\n",
    "# Train model \n",
    "best_svm.fit(X_train_scaled, y_train)\n",
    "\n",
    "# Make predictions with training data \n",
    "best_svm_predicted = best_svm.predict(X_test_scaled)\n",
    "\n",
    "# Calculate accuracy\n",
    "best_svm_accuracy = accuracy_score(y_test, best_svm_predicted)\n",
    "# Calculate accuracy\n",
    "best_svm_precision = precision_score(y_test, best_svm_predicted)\n",
    "# Calculate recall \n",
    "best_svm_recall = recall_score(y_test, best_svm_predicted)\n",
    "\n",
    "print('Accuracy: ', best_svm_accuracy)\n",
    "print('Precision: ', best_svm_precision)\n",
    "print('Recall: ', best_svm_recall)"
   ]
  },
  {
   "cell_type": "markdown",
   "id": "acc88114-5346-4673-add8-fa4399d8f5fa",
   "metadata": {},
   "source": [
    "Using the SVM with tuned hyperparameters, our accuracy and precision were essentially the same. \n",
    "However, the recall score was slightly better. "
   ]
  },
  {
   "cell_type": "markdown",
   "id": "04e9aa6b-9388-468b-b397-edb5b8192c4c",
   "metadata": {},
   "source": [
    "## 5. Logistic Regression \n",
    "For the other classifier we chose to use a logistic regression model with the default `penalty` and `C` hyperparameters.  "
   ]
  },
  {
   "cell_type": "code",
   "execution_count": 11,
   "id": "168df9dc-45d1-45f9-8ca7-84c8dd6a0d75",
   "metadata": {},
   "outputs": [
    {
     "name": "stdout",
     "output_type": "stream",
     "text": [
      "Accuracy:  0.9948377581120944\n",
      "Precision:  0.9848484848484849\n",
      "Recall:  0.7065217391304348\n"
     ]
    }
   ],
   "source": [
    "# Train Logistic Regression model\n",
    "lr = LogisticRegression().fit(X_train_scaled, y_train)\n",
    "# Make predictions with training data \n",
    "lr_predicted = lr.predict(X_test_scaled)\n",
    "\n",
    "# Calculate accuracy\n",
    "lr_accuracy = accuracy_score(y_test, lr_predicted)\n",
    "# Calculate accuracy\n",
    "lr_precision = precision_score(y_test, lr_predicted)\n",
    "# Calculate recall \n",
    "lr_recall = recall_score(y_test, lr_predicted)\n",
    "\n",
    "print('Accuracy: ', lr_accuracy)\n",
    "print('Precision: ', lr_precision)\n",
    "print('Recall: ', lr_recall)"
   ]
  },
  {
   "cell_type": "markdown",
   "id": "df0bae03-6553-43b2-bea9-1ec21b4d3fca",
   "metadata": {},
   "source": [
    "The logistic regression results were mixed. The accuracy was slightly less, but the precision score was \n",
    "better than the SVM results. The recall, however, was much lower."
   ]
  },
  {
   "cell_type": "markdown",
   "id": "65f09062-1230-4e94-bdf5-8b31c9bb8cff",
   "metadata": {},
   "source": [
    "## 6. Fine-Tuned Logistic Regression\n",
    "To improve our logistic regression results, we again used cross validation to determine a better combination of hyperparameters. "
   ]
  },
  {
   "cell_type": "code",
   "execution_count": 12,
   "id": "bb51e01a-fdf7-49fa-8b61-09f88e78c7cb",
   "metadata": {},
   "outputs": [
    {
     "data": {
      "text/plain": [
       "{'C': 10, 'penalty': 'l2'}"
      ]
     },
     "execution_count": 12,
     "metadata": {},
     "output_type": "execute_result"
    }
   ],
   "source": [
    "# Hyperparameters and values iterate through \n",
    "grid_values = {'penalty': ['l1', 'l2'],\n",
    "               'C': [0.01, 0.1, 1, 10]}\n",
    "\n",
    "# Create Logistic Regression model using 'liblinear' solver\n",
    "lr = LogisticRegression(solver='liblinear')\n",
    "\n",
    "# Metric to optimize over grid parameters: F-1 score\n",
    "grid_lr = GridSearchCV(lr, param_grid=grid_values, scoring='f1')\n",
    "# Train on models\n",
    "grid_lr.fit(X_train_scaled, y_train)\n",
    "\n",
    "# Best scoring combination of hyperparameters\n",
    "params = grid_lr.best_params_\n",
    "\n",
    "params"
   ]
  },
  {
   "cell_type": "code",
   "execution_count": 13,
   "id": "2e73af57-2c69-400f-a673-154d62235e9c",
   "metadata": {},
   "outputs": [
    {
     "name": "stdout",
     "output_type": "stream",
     "text": [
      "Accuracy:  0.9959439528023599\n",
      "Precision:  0.9605263157894737\n",
      "Recall:  0.7934782608695652\n"
     ]
    }
   ],
   "source": [
    "# Create classifier with best hyperparameters\n",
    "best_lr = LogisticRegression(C=params['C'], \n",
    "                             penalty='l2')\n",
    "\n",
    "# Train model \n",
    "best_lr.fit(X_train_scaled, y_train)\n",
    "\n",
    "# Make predictions with training data \n",
    "best_lr_predicted = best_lr.predict(X_test_scaled)\n",
    "\n",
    "# Calculate accuracy\n",
    "best_lr_accuracy = accuracy_score(y_test, best_lr_predicted)\n",
    "# Calculate accuracy\n",
    "best_lr_precision = precision_score(y_test, best_lr_predicted)\n",
    "# Calculate recall \n",
    "best_lr_recall = recall_score(y_test, best_lr_predicted)\n",
    "\n",
    "print('Accuracy: ', best_lr_accuracy)\n",
    "print('Precision: ', best_lr_precision)\n",
    "print('Recall: ', best_lr_recall)"
   ]
  },
  {
   "cell_type": "markdown",
   "id": "f4045e10-4466-4247-aaca-5c217f645487",
   "metadata": {},
   "source": [
    "The results were again mixed. The accuracy score slightly improved, but the precision score dropped a little. \n",
    "And the recall went up significantly. "
   ]
  },
  {
   "cell_type": "markdown",
   "id": "f27f9759-3094-4ef8-8a3d-df384452bee8",
   "metadata": {},
   "source": [
    "## 7. Conclusion \n",
    "To summarize, here are the overall results of our classifiers: "
   ]
  },
  {
   "cell_type": "code",
   "execution_count": 39,
   "id": "896cf1ae-d321-4175-a119-ee266344c0ee",
   "metadata": {},
   "outputs": [
    {
     "data": {
      "text/html": [
       "<div>\n",
       "<style scoped>\n",
       "    .dataframe tbody tr th:only-of-type {\n",
       "        vertical-align: middle;\n",
       "    }\n",
       "\n",
       "    .dataframe tbody tr th {\n",
       "        vertical-align: top;\n",
       "    }\n",
       "\n",
       "    .dataframe thead th {\n",
       "        text-align: right;\n",
       "    }\n",
       "</style>\n",
       "<table border=\"1\" class=\"dataframe\">\n",
       "  <thead>\n",
       "    <tr style=\"text-align: right;\">\n",
       "      <th></th>\n",
       "      <th>Accuracy</th>\n",
       "      <th>Precision</th>\n",
       "      <th>Recall</th>\n",
       "    </tr>\n",
       "  </thead>\n",
       "  <tbody>\n",
       "    <tr>\n",
       "      <th>Dummy</th>\n",
       "      <td>0.983038</td>\n",
       "      <td>NaN</td>\n",
       "      <td>0.000000</td>\n",
       "    </tr>\n",
       "    <tr>\n",
       "      <th>Default SVM</th>\n",
       "      <td>0.996128</td>\n",
       "      <td>0.973333</td>\n",
       "      <td>0.793478</td>\n",
       "    </tr>\n",
       "    <tr>\n",
       "      <th>Best SVM</th>\n",
       "      <td>0.996313</td>\n",
       "      <td>0.973684</td>\n",
       "      <td>0.804348</td>\n",
       "    </tr>\n",
       "    <tr>\n",
       "      <th>Default LR</th>\n",
       "      <td>0.994838</td>\n",
       "      <td>0.984848</td>\n",
       "      <td>0.706522</td>\n",
       "    </tr>\n",
       "    <tr>\n",
       "      <th>Best LR</th>\n",
       "      <td>0.995944</td>\n",
       "      <td>0.960526</td>\n",
       "      <td>0.793478</td>\n",
       "    </tr>\n",
       "  </tbody>\n",
       "</table>\n",
       "</div>"
      ],
      "text/plain": [
       "             Accuracy  Precision    Recall\n",
       "Dummy        0.983038        NaN  0.000000\n",
       "Default SVM  0.996128   0.973333  0.793478\n",
       "Best SVM     0.996313   0.973684  0.804348\n",
       "Default LR   0.994838   0.984848  0.706522\n",
       "Best LR      0.995944   0.960526  0.793478"
      ]
     },
     "execution_count": 39,
     "metadata": {},
     "output_type": "execute_result"
    }
   ],
   "source": [
    "# Create data frame with results \n",
    "results = pd.DataFrame({'Accuracy': [dummy_accuracy, svm_accuracy, best_svm_accuracy, lr_accuracy, best_lr_accuracy],\n",
    "                        'Precision': [dummy_precision, svm_precision, best_svm_precision, lr_precision, best_lr_precision],\n",
    "                        'Recall': [dummy_recall, svm_recall, best_svm_recall, lr_recall, best_lr_recall]},\n",
    "                       index=['Dummy', 'Default SVM', 'Best SVM', 'Default LR', 'Best LR'])\n",
    "results"
   ]
  },
  {
   "cell_type": "code",
   "execution_count": 41,
   "id": "cad94920-af57-4b37-af40-0893f3f2bf00",
   "metadata": {},
   "outputs": [
    {
     "data": {
      "image/png": "[encoded data removed]",
      "text/plain": [
       "<Figure size 640x480 with 1 Axes>"
      ]
     },
     "metadata": {},
     "output_type": "display_data"
    }
   ],
   "source": [
    "# Plot results \n",
    "ax = results.plot.bar()\n",
    "plt.legend(bbox_to_anchor=(1.05, 1.0), loc='upper left')\n",
    "plt.grid()\n",
    "plt.xticks(rotation = 25)\n",
    "loc = matplotlib.ticker.MultipleLocator(0.1)\n",
    "ax.yaxis.set_major_locator(loc)"
   ]
  },
  {
   "cell_type": "markdown",
   "id": "9d1a7d18-fceb-4ddc-a8c1-fe3de5f83c80",
   "metadata": {},
   "source": [
    "Overall, all four of our classifiers did better than our baseline. However, accuracy may not be the best measure to \n",
    "evaluate the models, because of the heavily imbalanced data set. Using just the precision scores, the models still performed well, but the recall numbers aren't good. Since the classifier is a fraud detector, we are more concerned with false negatives (fraudulent transactions that go undetected) than false positives. Therefore, we should explore other fraud detection classifiers.  "
   ]
  },
  {
   "cell_type": "code",
   "execution_count": null,
   "id": "2aba7b4b-4685-49d0-96e3-b58eea735090",
   "metadata": {},
   "outputs": [],
   "source": []
  }
 ],
 "metadata": {
  "kernelspec": {
   "display_name": "Python 3 (ipykernel)",
   "language": "python",
   "name": "python3"
  },
  "language_info": {
   "codemirror_mode": {
    "name": "ipython",
    "version": 3
   },
   "file_extension": ".py",
   "mimetype": "text/x-python",
   "name": "python",
   "nbconvert_exporter": "python",
   "pygments_lexer": "ipython3",
   "version": "3.11.9"
  }
 },
 "nbformat": 4,
 "nbformat_minor": 5
}

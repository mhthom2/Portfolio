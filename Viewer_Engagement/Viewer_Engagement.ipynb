{
 "cells": [
  {
   "cell_type": "markdown",
   "id": "36b65e7e-a706-4732-9df4-37d5fdeae8e7",
   "metadata": {},
   "source": [
    "# Predicting View Engagement\n",
    "With the accelerating popularity of online educational experiences, the role of online lectures continues to increase in scope and importance. This impressive volume of content has led to the challenge of which of these videos provides the best learning experiences. \n",
    "\n",
    "One critical property of a successful video is engagement: how interesting it is for viewers. Engagement is critical for learning, whether the instruction is coming from a video or any other source. For this project, we created classifiers that predict how engaging an educational video is likely to be for viewers, based on a set of features extracted from the video's transcript, audio track, hosting site, and other sources."
   ]
  },
  {
   "cell_type": "code",
   "execution_count": 26,
   "id": "28e0b400-8d61-473a-b531-ecd40da2c99c",
   "metadata": {},
   "outputs": [],
   "source": [
    "import pandas as pd\n",
    "import numpy as np\n",
    "import matplotlib.pyplot as plt\n",
    "import matplotlib\n",
    "\n",
    "from sklearn.model_selection import train_test_split\n",
    "from sklearn.dummy import DummyClassifier\n",
    "from sklearn.preprocessing import MinMaxScaler\n",
    "from sklearn.linear_model import LogisticRegression\n",
    "from sklearn.neighbors import KNeighborsClassifier\n",
    "from sklearn.svm import SVC\n",
    "from sklearn.tree import DecisionTreeClassifier\n",
    "from sklearn.ensemble import RandomForestClassifier\n",
    "\n",
    "from sklearn.model_selection import GridSearchCV\n",
    "from sklearn.metrics import f1_score\n",
    "from sklearn.metrics import precision_recall_curve, auc\n",
    "from sklearn.metrics import recall_score, precision_score, accuracy_score\n",
    "\n",
    "np.random.seed(0)"
   ]
  },
  {
   "cell_type": "markdown",
   "id": "dc3e9679-a2f0-4387-bc38-c6798fe77d08",
   "metadata": {},
   "source": [
    "## 1. Load and Prepare Data"
   ]
  },
  {
   "cell_type": "markdown",
   "id": "46e58a8f-8afa-44f6-91a5-17e078df5a9c",
   "metadata": {},
   "source": [
    "The data for this project consists of educational video features collected by Sahan Bulathwela at University College London from the Virtual Learning Environment (VLE) Dataset (https://github.com/sahanbull/VLE-Dataset)."
   ]
  },
  {
   "cell_type": "code",
   "execution_count": 2,
   "id": "60afc2e6-c06e-4cbe-aba0-4d0c7c61ec2a",
   "metadata": {},
   "outputs": [
    {
     "data": {
      "text/html": [
       "<div>\n",
       "<style scoped>\n",
       "    .dataframe tbody tr th:only-of-type {\n",
       "        vertical-align: middle;\n",
       "    }\n",
       "\n",
       "    .dataframe tbody tr th {\n",
       "        vertical-align: top;\n",
       "    }\n",
       "\n",
       "    .dataframe thead th {\n",
       "        text-align: right;\n",
       "    }\n",
       "</style>\n",
       "<table border=\"1\" class=\"dataframe\">\n",
       "  <thead>\n",
       "    <tr style=\"text-align: right;\">\n",
       "      <th></th>\n",
       "      <th>id</th>\n",
       "      <th>fold</th>\n",
       "      <th>categories</th>\n",
       "      <th>word_count</th>\n",
       "      <th>title_word_count</th>\n",
       "      <th>document_entropy</th>\n",
       "      <th>easiness</th>\n",
       "      <th>fraction_stopword_presence</th>\n",
       "      <th>fraction_stopword_coverage</th>\n",
       "      <th>preposition_rate</th>\n",
       "      <th>...</th>\n",
       "      <th>silent_period_rate</th>\n",
       "      <th>min_engagement</th>\n",
       "      <th>max_engagement</th>\n",
       "      <th>med_engagement</th>\n",
       "      <th>mean_engagement</th>\n",
       "      <th>sd_engagement</th>\n",
       "      <th>num_learners</th>\n",
       "      <th>num_views</th>\n",
       "      <th>avg_star_rating</th>\n",
       "      <th>num_star_ratings</th>\n",
       "    </tr>\n",
       "  </thead>\n",
       "  <tbody>\n",
       "    <tr>\n",
       "      <th>0</th>\n",
       "      <td>1</td>\n",
       "      <td>1</td>\n",
       "      <td>stem</td>\n",
       "      <td>2668</td>\n",
       "      <td>9</td>\n",
       "      <td>7.753995</td>\n",
       "      <td>75.583936</td>\n",
       "      <td>0.553664</td>\n",
       "      <td>0.428135</td>\n",
       "      <td>0.121392</td>\n",
       "      <td>...</td>\n",
       "      <td>0.0</td>\n",
       "      <td>0.030241</td>\n",
       "      <td>1.0</td>\n",
       "      <td>0.502923</td>\n",
       "      <td>1.000000</td>\n",
       "      <td>1.574152</td>\n",
       "      <td>53</td>\n",
       "      <td>1899</td>\n",
       "      <td>-1.0</td>\n",
       "      <td>0</td>\n",
       "    </tr>\n",
       "    <tr>\n",
       "      <th>1</th>\n",
       "      <td>2</td>\n",
       "      <td>1</td>\n",
       "      <td>misc</td>\n",
       "      <td>7512</td>\n",
       "      <td>6</td>\n",
       "      <td>8.305269</td>\n",
       "      <td>86.870523</td>\n",
       "      <td>0.584498</td>\n",
       "      <td>0.602446</td>\n",
       "      <td>0.095885</td>\n",
       "      <td>...</td>\n",
       "      <td>0.0</td>\n",
       "      <td>0.008136</td>\n",
       "      <td>1.0</td>\n",
       "      <td>0.011989</td>\n",
       "      <td>0.165811</td>\n",
       "      <td>0.368124</td>\n",
       "      <td>7</td>\n",
       "      <td>1982</td>\n",
       "      <td>-1.0</td>\n",
       "      <td>0</td>\n",
       "    </tr>\n",
       "    <tr>\n",
       "      <th>2</th>\n",
       "      <td>3</td>\n",
       "      <td>1</td>\n",
       "      <td>stem</td>\n",
       "      <td>4264</td>\n",
       "      <td>3</td>\n",
       "      <td>7.965583</td>\n",
       "      <td>81.915968</td>\n",
       "      <td>0.605685</td>\n",
       "      <td>0.525994</td>\n",
       "      <td>0.118294</td>\n",
       "      <td>...</td>\n",
       "      <td>0.0</td>\n",
       "      <td>0.009563</td>\n",
       "      <td>1.0</td>\n",
       "      <td>0.041627</td>\n",
       "      <td>0.199148</td>\n",
       "      <td>0.358510</td>\n",
       "      <td>39</td>\n",
       "      <td>3561</td>\n",
       "      <td>5.0</td>\n",
       "      <td>1</td>\n",
       "    </tr>\n",
       "    <tr>\n",
       "      <th>3</th>\n",
       "      <td>4</td>\n",
       "      <td>1</td>\n",
       "      <td>stem</td>\n",
       "      <td>2869</td>\n",
       "      <td>9</td>\n",
       "      <td>8.142877</td>\n",
       "      <td>80.148937</td>\n",
       "      <td>0.593664</td>\n",
       "      <td>0.504587</td>\n",
       "      <td>0.122590</td>\n",
       "      <td>...</td>\n",
       "      <td>0.0</td>\n",
       "      <td>0.016787</td>\n",
       "      <td>1.0</td>\n",
       "      <td>0.064989</td>\n",
       "      <td>0.317020</td>\n",
       "      <td>0.662013</td>\n",
       "      <td>36</td>\n",
       "      <td>3030</td>\n",
       "      <td>-1.0</td>\n",
       "      <td>0</td>\n",
       "    </tr>\n",
       "    <tr>\n",
       "      <th>4</th>\n",
       "      <td>5</td>\n",
       "      <td>1</td>\n",
       "      <td>misc</td>\n",
       "      <td>4840</td>\n",
       "      <td>9</td>\n",
       "      <td>8.161250</td>\n",
       "      <td>76.907549</td>\n",
       "      <td>0.581637</td>\n",
       "      <td>0.559633</td>\n",
       "      <td>0.130700</td>\n",
       "      <td>...</td>\n",
       "      <td>0.0</td>\n",
       "      <td>0.014288</td>\n",
       "      <td>1.0</td>\n",
       "      <td>0.052154</td>\n",
       "      <td>0.147820</td>\n",
       "      <td>0.263750</td>\n",
       "      <td>25</td>\n",
       "      <td>2864</td>\n",
       "      <td>-1.0</td>\n",
       "      <td>0</td>\n",
       "    </tr>\n",
       "  </tbody>\n",
       "</table>\n",
       "<p>5 rows × 50 columns</p>\n",
       "</div>"
      ],
      "text/plain": [
       "   id  fold categories  word_count  title_word_count  document_entropy  \\\n",
       "0   1     1       stem        2668                 9          7.753995   \n",
       "1   2     1       misc        7512                 6          8.305269   \n",
       "2   3     1       stem        4264                 3          7.965583   \n",
       "3   4     1       stem        2869                 9          8.142877   \n",
       "4   5     1       misc        4840                 9          8.161250   \n",
       "\n",
       "    easiness  fraction_stopword_presence  fraction_stopword_coverage  \\\n",
       "0  75.583936                    0.553664                    0.428135   \n",
       "1  86.870523                    0.584498                    0.602446   \n",
       "2  81.915968                    0.605685                    0.525994   \n",
       "3  80.148937                    0.593664                    0.504587   \n",
       "4  76.907549                    0.581637                    0.559633   \n",
       "\n",
       "   preposition_rate  ...  silent_period_rate  min_engagement  max_engagement  \\\n",
       "0          0.121392  ...                 0.0        0.030241             1.0   \n",
       "1          0.095885  ...                 0.0        0.008136             1.0   \n",
       "2          0.118294  ...                 0.0        0.009563             1.0   \n",
       "3          0.122590  ...                 0.0        0.016787             1.0   \n",
       "4          0.130700  ...                 0.0        0.014288             1.0   \n",
       "\n",
       "   med_engagement  mean_engagement  sd_engagement num_learners  num_views  \\\n",
       "0        0.502923         1.000000       1.574152           53       1899   \n",
       "1        0.011989         0.165811       0.368124            7       1982   \n",
       "2        0.041627         0.199148       0.358510           39       3561   \n",
       "3        0.064989         0.317020       0.662013           36       3030   \n",
       "4        0.052154         0.147820       0.263750           25       2864   \n",
       "\n",
       "  avg_star_rating  num_star_ratings  \n",
       "0            -1.0                 0  \n",
       "1            -1.0                 0  \n",
       "2             5.0                 1  \n",
       "3            -1.0                 0  \n",
       "4            -1.0                 0  \n",
       "\n",
       "[5 rows x 50 columns]"
      ]
     },
     "execution_count": 2,
     "metadata": {},
     "output_type": "execute_result"
    }
   ],
   "source": [
    "data = pd.read_csv('./assets/VLE_dataset.csv')\n",
    "data.head()"
   ]
  },
  {
   "cell_type": "markdown",
   "id": "828801ef-0324-478a-afca-782b6bf97ce7",
   "metadata": {},
   "source": [
    "Not all of the columns will be helpful for classifying viewer engagement, so we trimmed the number of columns down these 8:\n",
    "`['title_word_count', 'document_entropy', 'freshness', 'easiness', 'fraction_stopword_presence', 'normalization_rate', 'speaker_speed', 'silent_period_rate']`. This is consist with the original task. "
   ]
  },
  {
   "cell_type": "code",
   "execution_count": 3,
   "id": "609c888e-96b3-41ba-bc5c-b170562b115d",
   "metadata": {},
   "outputs": [
    {
     "data": {
      "text/html": [
       "<div>\n",
       "<style scoped>\n",
       "    .dataframe tbody tr th:only-of-type {\n",
       "        vertical-align: middle;\n",
       "    }\n",
       "\n",
       "    .dataframe tbody tr th {\n",
       "        vertical-align: top;\n",
       "    }\n",
       "\n",
       "    .dataframe thead th {\n",
       "        text-align: right;\n",
       "    }\n",
       "</style>\n",
       "<table border=\"1\" class=\"dataframe\">\n",
       "  <thead>\n",
       "    <tr style=\"text-align: right;\">\n",
       "      <th></th>\n",
       "      <th>title_word_count</th>\n",
       "      <th>document_entropy</th>\n",
       "      <th>freshness</th>\n",
       "      <th>easiness</th>\n",
       "      <th>fraction_stopword_presence</th>\n",
       "      <th>normalization_rate</th>\n",
       "      <th>speaker_speed</th>\n",
       "      <th>silent_period_rate</th>\n",
       "    </tr>\n",
       "  </thead>\n",
       "  <tbody>\n",
       "    <tr>\n",
       "      <th>0</th>\n",
       "      <td>9</td>\n",
       "      <td>7.753995</td>\n",
       "      <td>16310</td>\n",
       "      <td>75.583936</td>\n",
       "      <td>0.553664</td>\n",
       "      <td>0.034049</td>\n",
       "      <td>2.997753</td>\n",
       "      <td>0.0</td>\n",
       "    </tr>\n",
       "    <tr>\n",
       "      <th>1</th>\n",
       "      <td>6</td>\n",
       "      <td>8.305269</td>\n",
       "      <td>15410</td>\n",
       "      <td>86.870523</td>\n",
       "      <td>0.584498</td>\n",
       "      <td>0.018763</td>\n",
       "      <td>2.635789</td>\n",
       "      <td>0.0</td>\n",
       "    </tr>\n",
       "    <tr>\n",
       "      <th>2</th>\n",
       "      <td>3</td>\n",
       "      <td>7.965583</td>\n",
       "      <td>15680</td>\n",
       "      <td>81.915968</td>\n",
       "      <td>0.605685</td>\n",
       "      <td>0.030720</td>\n",
       "      <td>2.538095</td>\n",
       "      <td>0.0</td>\n",
       "    </tr>\n",
       "    <tr>\n",
       "      <th>3</th>\n",
       "      <td>9</td>\n",
       "      <td>8.142877</td>\n",
       "      <td>15610</td>\n",
       "      <td>80.148937</td>\n",
       "      <td>0.593664</td>\n",
       "      <td>0.016873</td>\n",
       "      <td>2.259055</td>\n",
       "      <td>0.0</td>\n",
       "    </tr>\n",
       "    <tr>\n",
       "      <th>4</th>\n",
       "      <td>9</td>\n",
       "      <td>8.161250</td>\n",
       "      <td>14920</td>\n",
       "      <td>76.907549</td>\n",
       "      <td>0.581637</td>\n",
       "      <td>0.023412</td>\n",
       "      <td>2.420000</td>\n",
       "      <td>0.0</td>\n",
       "    </tr>\n",
       "  </tbody>\n",
       "</table>\n",
       "</div>"
      ],
      "text/plain": [
       "   title_word_count  document_entropy  freshness   easiness  \\\n",
       "0                 9          7.753995      16310  75.583936   \n",
       "1                 6          8.305269      15410  86.870523   \n",
       "2                 3          7.965583      15680  81.915968   \n",
       "3                 9          8.142877      15610  80.148937   \n",
       "4                 9          8.161250      14920  76.907549   \n",
       "\n",
       "   fraction_stopword_presence  normalization_rate  speaker_speed  \\\n",
       "0                    0.553664            0.034049       2.997753   \n",
       "1                    0.584498            0.018763       2.635789   \n",
       "2                    0.605685            0.030720       2.538095   \n",
       "3                    0.593664            0.016873       2.259055   \n",
       "4                    0.581637            0.023412       2.420000   \n",
       "\n",
       "   silent_period_rate  \n",
       "0                 0.0  \n",
       "1                 0.0  \n",
       "2                 0.0  \n",
       "3                 0.0  \n",
       "4                 0.0  "
      ]
     },
     "execution_count": 3,
     "metadata": {},
     "output_type": "execute_result"
    }
   ],
   "source": [
    "df = data[['title_word_count', 'document_entropy', 'freshness', 'easiness',\n",
    "       'fraction_stopword_presence', 'normalization_rate', 'speaker_speed',\n",
    "       'silent_period_rate']].copy()\n",
    "df.head()"
   ]
  },
  {
   "cell_type": "markdown",
   "id": "13ea4a46-ca7e-41b2-91e6-dc614838be7f",
   "metadata": {},
   "source": [
    "This data isn't labeled. When the assignment was presented in my certification course, they provided a much smaller subset of the full data set, which was already labeled. After comparing the two data sets, I determined instances were labeled 'engaged' if the median engagement level was at least 30%. For all others, they were considered 'not engaged'. We used the same cut-off to label our data.  "
   ]
  },
  {
   "cell_type": "code",
   "execution_count": 4,
   "id": "55e3453d-19ac-44bb-a742-af7e68859b29",
   "metadata": {},
   "outputs": [
    {
     "data": {
      "text/html": [
       "<div>\n",
       "<style scoped>\n",
       "    .dataframe tbody tr th:only-of-type {\n",
       "        vertical-align: middle;\n",
       "    }\n",
       "\n",
       "    .dataframe tbody tr th {\n",
       "        vertical-align: top;\n",
       "    }\n",
       "\n",
       "    .dataframe thead th {\n",
       "        text-align: right;\n",
       "    }\n",
       "</style>\n",
       "<table border=\"1\" class=\"dataframe\">\n",
       "  <thead>\n",
       "    <tr style=\"text-align: right;\">\n",
       "      <th></th>\n",
       "      <th>title_word_count</th>\n",
       "      <th>document_entropy</th>\n",
       "      <th>freshness</th>\n",
       "      <th>easiness</th>\n",
       "      <th>fraction_stopword_presence</th>\n",
       "      <th>normalization_rate</th>\n",
       "      <th>speaker_speed</th>\n",
       "      <th>silent_period_rate</th>\n",
       "      <th>engagement</th>\n",
       "    </tr>\n",
       "  </thead>\n",
       "  <tbody>\n",
       "    <tr>\n",
       "      <th>0</th>\n",
       "      <td>9</td>\n",
       "      <td>7.753995</td>\n",
       "      <td>16310</td>\n",
       "      <td>75.583936</td>\n",
       "      <td>0.553664</td>\n",
       "      <td>0.034049</td>\n",
       "      <td>2.997753</td>\n",
       "      <td>0.0</td>\n",
       "      <td>1</td>\n",
       "    </tr>\n",
       "    <tr>\n",
       "      <th>1</th>\n",
       "      <td>6</td>\n",
       "      <td>8.305269</td>\n",
       "      <td>15410</td>\n",
       "      <td>86.870523</td>\n",
       "      <td>0.584498</td>\n",
       "      <td>0.018763</td>\n",
       "      <td>2.635789</td>\n",
       "      <td>0.0</td>\n",
       "      <td>0</td>\n",
       "    </tr>\n",
       "    <tr>\n",
       "      <th>2</th>\n",
       "      <td>3</td>\n",
       "      <td>7.965583</td>\n",
       "      <td>15680</td>\n",
       "      <td>81.915968</td>\n",
       "      <td>0.605685</td>\n",
       "      <td>0.030720</td>\n",
       "      <td>2.538095</td>\n",
       "      <td>0.0</td>\n",
       "      <td>0</td>\n",
       "    </tr>\n",
       "    <tr>\n",
       "      <th>3</th>\n",
       "      <td>9</td>\n",
       "      <td>8.142877</td>\n",
       "      <td>15610</td>\n",
       "      <td>80.148937</td>\n",
       "      <td>0.593664</td>\n",
       "      <td>0.016873</td>\n",
       "      <td>2.259055</td>\n",
       "      <td>0.0</td>\n",
       "      <td>0</td>\n",
       "    </tr>\n",
       "    <tr>\n",
       "      <th>4</th>\n",
       "      <td>9</td>\n",
       "      <td>8.161250</td>\n",
       "      <td>14920</td>\n",
       "      <td>76.907549</td>\n",
       "      <td>0.581637</td>\n",
       "      <td>0.023412</td>\n",
       "      <td>2.420000</td>\n",
       "      <td>0.0</td>\n",
       "      <td>0</td>\n",
       "    </tr>\n",
       "  </tbody>\n",
       "</table>\n",
       "</div>"
      ],
      "text/plain": [
       "   title_word_count  document_entropy  freshness   easiness  \\\n",
       "0                 9          7.753995      16310  75.583936   \n",
       "1                 6          8.305269      15410  86.870523   \n",
       "2                 3          7.965583      15680  81.915968   \n",
       "3                 9          8.142877      15610  80.148937   \n",
       "4                 9          8.161250      14920  76.907549   \n",
       "\n",
       "   fraction_stopword_presence  normalization_rate  speaker_speed  \\\n",
       "0                    0.553664            0.034049       2.997753   \n",
       "1                    0.584498            0.018763       2.635789   \n",
       "2                    0.605685            0.030720       2.538095   \n",
       "3                    0.593664            0.016873       2.259055   \n",
       "4                    0.581637            0.023412       2.420000   \n",
       "\n",
       "   silent_period_rate  engagement  \n",
       "0                 0.0           1  \n",
       "1                 0.0           0  \n",
       "2                 0.0           0  \n",
       "3                 0.0           0  \n",
       "4                 0.0           0  "
      ]
     },
     "execution_count": 4,
     "metadata": {},
     "output_type": "execute_result"
    }
   ],
   "source": [
    "df['engagement'] = 0\n",
    "df.loc[data['med_engagement'] >= 0.3, 'engagement'] = 1\n",
    "df.head()"
   ]
  },
  {
   "cell_type": "markdown",
   "id": "4c860126-d9c3-4343-b4fb-d42081f1a72b",
   "metadata": {},
   "source": [
    "The data seems a little unbalanced, so we checked the distribution of engaged/disengaged viewers in the data."
   ]
  },
  {
   "cell_type": "code",
   "execution_count": 5,
   "id": "7bca3833-70d3-419e-8b42-0cec900fd1a2",
   "metadata": {},
   "outputs": [
    {
     "data": {
      "text/plain": [
       "engagement\n",
       "0    0.902754\n",
       "1    0.097246\n",
       "Name: count, dtype: float64"
      ]
     },
     "execution_count": 5,
     "metadata": {},
     "output_type": "execute_result"
    }
   ],
   "source": [
    "# Calculate number of rows \n",
    "total = len(df)\n",
    "\n",
    "# Calculate proportions for both classes \n",
    "proportions = df['engagement'].value_counts() / total\n",
    "\n",
    "proportions"
   ]
  },
  {
   "cell_type": "markdown",
   "id": "07f22792-1273-4370-8d3d-2f926ae099d1",
   "metadata": {},
   "source": [
    "Only about 10% is engaged viewer data, so the data is relatively skewed. We'll keep this in mind during the analysis process. \n",
    "\n",
    "Next, the data was split into training and test data sets."
   ]
  },
  {
   "cell_type": "code",
   "execution_count": 6,
   "id": "7f196249-5765-43c1-ab6c-a0e8c92bc20b",
   "metadata": {},
   "outputs": [],
   "source": [
    "# Separate attributes and target\n",
    "X = df.iloc[:, :-1]\n",
    "y = df.iloc[:, -1]\n",
    "\n",
    "# Split into training/test data\n",
    "X_train, X_test, y_train, y_test = train_test_split(X, y, random_state=0)"
   ]
  },
  {
   "cell_type": "markdown",
   "id": "f736c0cc-063a-4816-9d2a-7338f3065d6e",
   "metadata": {},
   "source": [
    "## 2. Create Baseline\n",
    "As a baseline, we created a majority-vote classifier. Since the majority of the instances are disengaged viewers, and \n",
    "about 90% of the data is assigned to this class, we'd expect a high score. Due to the imbalance of classes in the data, we chose to use the F-1 score to evaluate the classifiers, because it doesn't assume an equal number of positive/negative examples. "
   ]
  },
  {
   "cell_type": "code",
   "execution_count": 7,
   "id": "638f2f05-36eb-4990-ad20-07f8eef9bb2b",
   "metadata": {},
   "outputs": [
    {
     "name": "stdout",
     "output_type": "stream",
     "text": [
      "Weighted F-1 Score:  0.8499780035851628\n"
     ]
    }
   ],
   "source": [
    "# Create dummy classifier, use most frequent class 0\n",
    "dummy_majority = DummyClassifier(strategy = 'most_frequent').fit(X_train, y_train)\n",
    "# Make predictions with test data\n",
    "y_dummy_predictions = dummy_majority.predict(X_test)\n",
    "\n",
    "# Calculated weighted F-1 score\n",
    "dummy_f1_score = f1_score(y_test, y_dummy_predictions, average='weighted')\n",
    "\n",
    "print('Weighted F-1 Score: ', dummy_f1_score)"
   ]
  },
  {
   "cell_type": "markdown",
   "id": "fcf702e6-7c01-4773-b7f4-fb3a317a3a0c",
   "metadata": {},
   "source": [
    "The dummy classifier sets the F-1 score baseline at about 85.0%. We'll be evaluating the other classifiers against this score. "
   ]
  },
  {
   "cell_type": "markdown",
   "id": "375a2c69-f147-4579-b928-768ab4ba1f4c",
   "metadata": {},
   "source": [
    "## 3. Logistic Regression Classifier\n",
    "The first classifier we created was a logistic regression classifier. \n",
    "\n",
    "For some of the classifiers, including the logistic regression model, the data should be normalized, so we used a min-max scaler. "
   ]
  },
  {
   "cell_type": "code",
   "execution_count": 8,
   "id": "5e4f617b-1a18-419d-b4dd-a8534346d98f",
   "metadata": {},
   "outputs": [],
   "source": [
    "# Create scaler\n",
    "scaler = MinMaxScaler()\n",
    "\n",
    "# Normalize the X data \n",
    "X_train_scaled = scaler.fit_transform(X_train)\n",
    "X_test_scaled = scaler.transform(X_test)"
   ]
  },
  {
   "cell_type": "markdown",
   "id": "97b9d742-ca14-4c6a-8fb5-ed1a2a948935",
   "metadata": {},
   "source": [
    "To find the best combination of `penalty` and `C` hyperparameters, we used cross validation. "
   ]
  },
  {
   "cell_type": "code",
   "execution_count": 23,
   "id": "ecd2b29a-77c9-4ecd-927f-45028a8b8628",
   "metadata": {},
   "outputs": [
    {
     "data": {
      "text/plain": [
       "{'C': 100, 'penalty': 'l1'}"
      ]
     },
     "execution_count": 23,
     "metadata": {},
     "output_type": "execute_result"
    }
   ],
   "source": [
    "# Range of penalties and 'C' values to try\n",
    "grid_values = {'penalty': ['l1', 'l2'], \n",
    "               'C': [0.01, 1, 10, 100]}\n",
    "\n",
    "# Create model using 'liblinear' solver\n",
    "lr = LogisticRegression(solver='liblinear')\n",
    "\n",
    "# Metric to optimize over grid parameters: F-1 Scoring\n",
    "grid_lr = GridSearchCV(lr, param_grid=grid_values, scoring='f1')\n",
    "grid_lr.fit(X_train_scaled, y_train)\n",
    "\n",
    "# Best combination of options\n",
    "params = grid_lr.best_params_\n",
    "params"
   ]
  },
  {
   "cell_type": "code",
   "execution_count": 10,
   "id": "4f5aecd0-d619-458a-ab09-5f3fba79fb9c",
   "metadata": {},
   "outputs": [
    {
     "name": "stdout",
     "output_type": "stream",
     "text": [
      "Weighted F-1 Score:  0.8901816566258641\n"
     ]
    }
   ],
   "source": [
    "# Create classifier with best hyperparameters\n",
    "best_lr = LogisticRegression(solver='liblinear', C=params['C'], \n",
    "                             penalty=params['penalty'])\n",
    "# Train model \n",
    "best_lr.fit(X_train_scaled, y_train)\n",
    "\n",
    "# Make predictions with test data \n",
    "best_lr_predicted = best_lr.predict(X_test_scaled)\n",
    "\n",
    "# Calculated weighted F-1 score\n",
    "lr_f1_score = f1_score(y_test, best_lr_predicted, average='weighted')\n",
    "\n",
    "print('Weighted F-1 Score: ', lr_f1_score)"
   ]
  },
  {
   "cell_type": "markdown",
   "id": "1289bc62-6237-4443-8b96-925b0fae1aa0",
   "metadata": {},
   "source": [
    "The Logistic Regression classifier scored a 89.0%, which is an improvement over the baseline."
   ]
  },
  {
   "cell_type": "markdown",
   "id": "0cacf33f-4b7e-4f11-aba0-09e196f4e469",
   "metadata": {},
   "source": [
    "## 4. k-Nearest Neighbor Classifier\n",
    "The next classifier we examined was a k-Nearest Neighbor model and used cross validation to determine the best combination of the `n_neighbors` and `weights` hyperparameters."
   ]
  },
  {
   "cell_type": "code",
   "execution_count": 24,
   "id": "57b7e56c-7b2f-4ff5-96e5-24a77827a580",
   "metadata": {},
   "outputs": [
    {
     "data": {
      "text/plain": [
       "{'n_neighbors': 3, 'weights': 'uniform'}"
      ]
     },
     "execution_count": 24,
     "metadata": {},
     "output_type": "execute_result"
    }
   ],
   "source": [
    "# Range of neighbors and weight types to try\n",
    "grid_values = {'n_neighbors': [1, 3, 5, 7, 9], \n",
    "               'weights': ['uniform', 'distance']}\n",
    "\n",
    "# Create default model \n",
    "knn = KNeighborsClassifier()\n",
    "\n",
    "# Metric to optimize over grid parameters: F-1 Score\n",
    "grid_knn = GridSearchCV(knn, param_grid=grid_values, scoring='f1')\n",
    "grid_knn.fit(X_train_scaled, y_train)\n",
    "\n",
    "# Best combination of hyperparameters \n",
    "params = grid_knn.best_params_\n",
    "params"
   ]
  },
  {
   "cell_type": "code",
   "execution_count": 12,
   "id": "00625ce3-53b7-4ff2-a218-abb8a9356f97",
   "metadata": {},
   "outputs": [
    {
     "name": "stdout",
     "output_type": "stream",
     "text": [
      "Weighted F-1 Score:  0.89557973820884\n"
     ]
    }
   ],
   "source": [
    "# Create classifier with best hyperparameters\n",
    "best_knn = KNeighborsClassifier(n_neighbors=params['n_neighbors'], \n",
    "                                weights=params['weights'])\n",
    "# Train model \n",
    "best_knn.fit(X_train_scaled, y_train)\n",
    "\n",
    "# Make predictions with test data \n",
    "best_knn_predicted = best_knn.predict(X_test_scaled)\n",
    "\n",
    "# Calculated weighted F-1 score\n",
    "knn_f1_score = f1_score(y_test, best_knn_predicted, average='weighted')\n",
    "\n",
    "print('Weighted F-1 Score: ', knn_f1_score)"
   ]
  },
  {
   "cell_type": "markdown",
   "id": "14b5c03a-507d-4528-97ab-5b4b0519f19d",
   "metadata": {},
   "source": [
    "The k-Nearest Neighbor classifier scored a 89.5%, which was better than both the baseline and the Logistic Regression classifier."
   ]
  },
  {
   "cell_type": "markdown",
   "id": "fadaf901-5cce-47ff-97db-0dad1c38b796",
   "metadata": {},
   "source": [
    "## 5. Support Vector Machine (SVM) Classifier\n",
    "For the third model, we looked at the performance of a SVM model. "
   ]
  },
  {
   "cell_type": "code",
   "execution_count": 18,
   "id": "6117846b-a8a5-4ac0-86cb-c9c238a3b21e",
   "metadata": {},
   "outputs": [
    {
     "data": {
      "text/plain": [
       "{'C': 100, 'gamma': 10}"
      ]
     },
     "execution_count": 18,
     "metadata": {},
     "output_type": "execute_result"
    }
   ],
   "source": [
    "## Set of hyperparameters used in cross validation\n",
    "grid_values = {'C': [10, 100],\n",
    "               'gamma': [1, 10]}\n",
    "# Create model \n",
    "svm = SVC(kernel='poly')\n",
    "\n",
    "# Metric to optimize over grid parameters: F1-score\n",
    "grid_svm = GridSearchCV(svm, param_grid=grid_values, scoring='f1')\n",
    "grid_svm.fit(X_train_scaled, y_train)\n",
    "\n",
    "# Best combination of hyperparameters\n",
    "params = grid_svm.best_params_\n",
    "params"
   ]
  },
  {
   "cell_type": "code",
   "execution_count": 19,
   "id": "83acecb1-8525-48d8-a6bd-0f77c9d629bd",
   "metadata": {},
   "outputs": [
    {
     "name": "stdout",
     "output_type": "stream",
     "text": [
      "Weighted F-1 Score:  0.906801406235055\n"
     ]
    }
   ],
   "source": [
    "# Create classifier with best hyperparameters\n",
    "best_svm = SVC(kernel='poly',\n",
    "               C=params['C'],\n",
    "               gamma=params['gamma'])\n",
    "# Train model \n",
    "best_svm.fit(X_train_scaled, y_train)\n",
    "\n",
    "# Make predictions with test data \n",
    "best_svm_predicted = best_svm.predict(X_test_scaled)\n",
    "\n",
    "# Calculated weighted F-1 score\n",
    "svm_f1_score = f1_score(y_test, best_svm_predicted, average='weighted')\n",
    "\n",
    "print('Weighted F-1 Score: ', svm_f1_score)"
   ]
  },
  {
   "cell_type": "markdown",
   "id": "0b7564f2-c3ce-481f-82b1-b2f510427be7",
   "metadata": {},
   "source": [
    "The SVM classifier scored 90.7%, which is better than the baseline and the previous two models. "
   ]
  },
  {
   "cell_type": "markdown",
   "id": "cb6186cb-4645-4fa2-b012-7a8aa40db8c6",
   "metadata": {},
   "source": [
    "## 6. Decision Tree Classifier\n",
    "We tried  a Decision Tree model for the fourth classifier. We used cross validation to determine the best `max_depth` and `criterion` hyperparameters. "
   ]
  },
  {
   "cell_type": "code",
   "execution_count": 13,
   "id": "28448adf-3acc-4391-9c37-30ad1c70d4b4",
   "metadata": {},
   "outputs": [
    {
     "data": {
      "text/plain": [
       "{'criterion': 'entropy', 'max_depth': 4}"
      ]
     },
     "execution_count": 13,
     "metadata": {},
     "output_type": "execute_result"
    }
   ],
   "source": [
    "# Set of hyperparameters used in cross validation\n",
    "grid_values = {'max_depth': [2, 3, 4, 5], \n",
    "               'criterion': ['gini', 'entropy', 'log_loss']}\n",
    "# Create model \n",
    "dt = DecisionTreeClassifier()\n",
    "\n",
    "# Metric to optimize over grid parameters: F1-score\n",
    "grid_dt = GridSearchCV(dt, param_grid=grid_values, scoring='f1')\n",
    "grid_dt.fit(X_train, y_train)\n",
    "\n",
    "# Combination of best hyperparameters \n",
    "params = grid_dt.best_params_\n",
    "params"
   ]
  },
  {
   "cell_type": "code",
   "execution_count": 14,
   "id": "40ad5275-8bac-4166-a83c-25dea7d961b4",
   "metadata": {},
   "outputs": [
    {
     "name": "stdout",
     "output_type": "stream",
     "text": [
      "Weighted F-1 Score:  0.9108040102710971\n"
     ]
    }
   ],
   "source": [
    "# Create classifier with best hyperparameters\n",
    "best_dt = DecisionTreeClassifier(max_depth=params['max_depth'],\n",
    "                                 criterion=params['criterion'])\n",
    "# Train model \n",
    "best_dt.fit(X_train_scaled, y_train)\n",
    "\n",
    "# Make predictions with test data \n",
    "best_dt_predicted = best_dt.predict(X_test_scaled)\n",
    "\n",
    "# Calculated weighted F-1 score\n",
    "dt_f1_score = f1_score(y_test, best_dt_predicted, average='weighted')\n",
    "\n",
    "print('Weighted F-1 Score: ', dt_f1_score)"
   ]
  },
  {
   "cell_type": "markdown",
   "id": "27752be3-b970-4969-9017-c85d8fd05f10",
   "metadata": {},
   "source": [
    "The score of 91.1% for the Decision Tree classifier, scored better than the baseline and other three models. "
   ]
  },
  {
   "cell_type": "markdown",
   "id": "35337958-4fe0-401e-bc4a-495d0c6b3d8c",
   "metadata": {},
   "source": [
    "## 7. Random Forest\n",
    "Finally, we tried a Random Forest classifier as our last model and used cross validation to find the best values for the `n_estimators` and `max_depth` hyperparameters. "
   ]
  },
  {
   "cell_type": "code",
   "execution_count": 15,
   "id": "2b1ff04a-76fd-4a81-b9ff-b3cb193ade1d",
   "metadata": {},
   "outputs": [
    {
     "data": {
      "text/plain": [
       "{'max_depth': 4, 'n_estimators': 2}"
      ]
     },
     "execution_count": 15,
     "metadata": {},
     "output_type": "execute_result"
    }
   ],
   "source": [
    "# Set of hyperparameters used in cross validation\n",
    "grid_values = {'n_estimators': [2, 4, 6], \n",
    "               'max_depth': [2, 3, 4]}\n",
    "# Creater model \n",
    "rf = RandomForestClassifier()\n",
    "\n",
    "# Metric to optimize over grid parameters: F1-score\n",
    "grid_rf = GridSearchCV(rf, param_grid=grid_values, scoring='f1')\n",
    "grid_rf.fit(X_train, y_train)\n",
    "\n",
    "# Combination of best hyperparameters\n",
    "params = grid_rf.best_params_\n",
    "params"
   ]
  },
  {
   "cell_type": "code",
   "execution_count": 16,
   "id": "8fb34b91-edc2-4755-a3b2-e84a2a92b54e",
   "metadata": {},
   "outputs": [
    {
     "name": "stdout",
     "output_type": "stream",
     "text": [
      "Weighted F-1 Score:  0.9108040102710971\n"
     ]
    }
   ],
   "source": [
    "# Create classifier with best hyperparameters\n",
    "best_rf = RandomForestClassifier(n_estimators=params['n_estimators'],\n",
    "                                 max_depth=params['max_depth'])\n",
    "# Train model \n",
    "best_rf.fit(X_train_scaled, y_train)\n",
    "\n",
    "# Make predictions with test data \n",
    "best_rf_predicted = best_rf.predict(X_test_scaled)\n",
    "\n",
    "# Calculated weighted F-1 score\n",
    "rf_f1_score = f1_score(y_test, best_dt_predicted, average='weighted')\n",
    "\n",
    "print('Weighted F-1 Score: ', rf_f1_score)"
   ]
  },
  {
   "cell_type": "markdown",
   "id": "f1131e13-b4da-47e8-bf3c-40d929532138",
   "metadata": {},
   "source": [
    "The Random Forest classifier scored 91.1%, which is the same as the Decision Tree model, but better than the baseline and the other two models. "
   ]
  },
  {
   "cell_type": "markdown",
   "id": "853cee39-e628-40a0-a068-3c20f45e7f18",
   "metadata": {},
   "source": [
    "## 8. Conclusion\n",
    "To summarize, here are the overall results of our classifiers: "
   ]
  },
  {
   "cell_type": "code",
   "execution_count": 20,
   "id": "a744dd54-2ad0-47f8-9dfd-8e4f31aa9048",
   "metadata": {},
   "outputs": [
    {
     "data": {
      "text/html": [
       "<div>\n",
       "<style scoped>\n",
       "    .dataframe tbody tr th:only-of-type {\n",
       "        vertical-align: middle;\n",
       "    }\n",
       "\n",
       "    .dataframe tbody tr th {\n",
       "        vertical-align: top;\n",
       "    }\n",
       "\n",
       "    .dataframe thead th {\n",
       "        text-align: right;\n",
       "    }\n",
       "</style>\n",
       "<table border=\"1\" class=\"dataframe\">\n",
       "  <thead>\n",
       "    <tr style=\"text-align: right;\">\n",
       "      <th></th>\n",
       "      <th>F-1 Score</th>\n",
       "    </tr>\n",
       "  </thead>\n",
       "  <tbody>\n",
       "    <tr>\n",
       "      <th>Dummy</th>\n",
       "      <td>0.849978</td>\n",
       "    </tr>\n",
       "    <tr>\n",
       "      <th>Logistic Regression</th>\n",
       "      <td>0.890182</td>\n",
       "    </tr>\n",
       "    <tr>\n",
       "      <th>k-Nearest Neighbor</th>\n",
       "      <td>0.895580</td>\n",
       "    </tr>\n",
       "    <tr>\n",
       "      <th>Support VectorMachine</th>\n",
       "      <td>0.906801</td>\n",
       "    </tr>\n",
       "    <tr>\n",
       "      <th>Decision Tree</th>\n",
       "      <td>0.910804</td>\n",
       "    </tr>\n",
       "    <tr>\n",
       "      <th>Random Forest</th>\n",
       "      <td>0.910804</td>\n",
       "    </tr>\n",
       "  </tbody>\n",
       "</table>\n",
       "</div>"
      ],
      "text/plain": [
       "                       F-1 Score\n",
       "Dummy                   0.849978\n",
       "Logistic Regression     0.890182\n",
       "k-Nearest Neighbor      0.895580\n",
       "Support VectorMachine   0.906801\n",
       "Decision Tree           0.910804\n",
       "Random Forest           0.910804"
      ]
     },
     "execution_count": 20,
     "metadata": {},
     "output_type": "execute_result"
    }
   ],
   "source": [
    "# Create data frame with results \n",
    "results = pd.DataFrame({'F-1 Score': [dummy_f1_score, lr_f1_score, knn_f1_score, svm_f1_score,\n",
    "                                                       dt_f1_score, rf_f1_score]},\n",
    "                       index=['Dummy', 'Logistic Regression', 'k-Nearest Neighbor', 'Support VectorMachine', \n",
    "                              'Decision Tree', 'Random Forest'])\n",
    "results"
   ]
  },
  {
   "cell_type": "code",
   "execution_count": 34,
   "id": "cb33ff70-9112-4361-9c43-8c3b78af9c1d",
   "metadata": {},
   "outputs": [
    {
     "data": {
      "image/png": "[encoded data removed]",
      "text/plain": [
       "<Figure size 640x480 with 1 Axes>"
      ]
     },
     "metadata": {},
     "output_type": "display_data"
    }
   ],
   "source": [
    "# Plot results \n",
    "ax = results.plot.barh(color='darkgreen')\n",
    "plt.legend(bbox_to_anchor=(1.05, 1.0), loc='upper left')\n",
    "plt.grid()\n",
    "loc = matplotlib.ticker.MultipleLocator(0.1)\n",
    "ax.xaxis.set_major_locator(loc); "
   ]
  },
  {
   "cell_type": "markdown",
   "id": "84db3219-3e1f-4ce4-a00d-06e626717688",
   "metadata": {},
   "source": [
    "Overall, all five of our classifier performed better than the baseline, and the best performing models were the Decision Tree and Random Forest classifiers, which had the same score. \n",
    "\n",
    "Interestingly, the Decision Tree classifier used the Gini index as its evaluation criterion, which is the default criterion, and the Random Forest classifier used entropy for its evaluation criterion, which was found to perform better using cross validation. However, both had a maximum tree depth of 4, which were found using cross validation. \n",
    "\n",
    "I think the reason that the Random Forest classifier didn't outperform the Decision Tree classifier is the number of attributes. The Random Forest model generally performs better than the Decision Tree model when there a large number of attributes. Too many attributes often leads to deep and, many times, overfitted Decision Trees. Random Forests are able to break in multiple trees and more efficiently differentiate between the classes. With only eight attributes, the Decision Tree was able to perform just as well in a single tree.     "
   ]
  },
  {
   "cell_type": "code",
   "execution_count": null,
   "id": "060de7a6-15ce-4f85-ae79-8b8558393dc7",
   "metadata": {},
   "outputs": [],
   "source": []
  }
 ],
 "metadata": {
  "kernelspec": {
   "display_name": "Python 3 (ipykernel)",
   "language": "python",
   "name": "python3"
  },
  "language_info": {
   "codemirror_mode": {
    "name": "ipython",
    "version": 3
   },
   "file_extension": ".py",
   "mimetype": "text/x-python",
   "name": "python",
   "nbconvert_exporter": "python",
   "pygments_lexer": "ipython3",
   "version": "3.11.9"
  }
 },
 "nbformat": 4,
 "nbformat_minor": 5
}
